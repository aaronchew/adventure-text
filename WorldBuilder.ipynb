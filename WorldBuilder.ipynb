{
 "cells": [
  {
   "cell_type": "code",
   "execution_count": 10,
   "metadata": {},
   "outputs": [],
   "source": [
    "class NarrativeElement:\n",
    "    def __init__(self, attr, trigger_words):\n",
    "        self.attr = attr\n",
    "        self.keywords = [\"title\", \"brief\", \"description\", \"embellishment\"]\n",
    "        self.update_keywords()\n",
    "        self.trigger_words = trigger_words\n",
    "\n",
    "    def update_keywords(self):\n",
    "        for i in self.keywords:\n",
    "            if i not in self.attr.keys():\n",
    "                self.attr.update({i: None})"
   ]
  },
  {
   "cell_type": "code",
   "execution_count": 11,
   "metadata": {},
   "outputs": [],
   "source": [
    "class Race(NarrativeElement):\n",
    "    def __init__(self, attr, trigger_words):\n",
    "        super().__init__(attr, trigger_words)\n",
    "        self.keywords += [\"race\", \"history\", \"anatomy\"]\n",
    "        self.update_keywords()\n",
    "\n",
    "class Faction(NarrativeElement):\n",
    "    def __init__(self, attr, trigger_words):\n",
    "        super().__init__(attr, trigger_words)\n",
    "        self.keywords += [\"goals\"]\n",
    "        self.update_keywords()\n",
    "\n",
    "class Character(NarrativeElement):\n",
    "    def __init__(self, attr, trigger_words):\n",
    "        super().__init__(attr, trigger_words)\n",
    "        self.keywords += [\"name\", \"appearance\", \"background\", \"motivations\"]\n",
    "        self.update_keywords()\n",
    "\n",
    "class Religion(NarrativeElement):\n",
    "    def __init__(self, attr, trigger_words):\n",
    "        super().__init__(attr, trigger_words)\n"
   ]
  },
  {
   "cell_type": "code",
   "execution_count": 12,
   "metadata": {},
   "outputs": [],
   "source": [
    "class Setting(NarrativeElement):\n",
    "    def __init__(self, attr, trigger_words):\n",
    "        super().__init__(attr, trigger_words)\n",
    "\n",
    "class Locale(NarrativeElement):\n",
    "    def __init__(self, attr, trigger_words):\n",
    "        super().__init__(attr, trigger_words)\n",
    "\n",
    "class Town(Locale):\n",
    "    def __init__(self, attr, trigger_words):\n",
    "        super().__init__(attr, trigger_words)\n",
    "\n",
    "class Biome(Locale):\n",
    "    def __init__(self, attr, trigger_words):\n",
    "        super().__init__(attr, trigger_words)\n",
    "\n",
    "class Flora(NarrativeElement):\n",
    "    def __init__(self, attr, trigger_words):\n",
    "        super().__init__(attr, trigger_words)\n",
    "\n",
    "class Fauna(NarrativeElement):\n",
    "    def __init__(self, attr, trigger_words):\n",
    "        super().__init__(attr, trigger_words)"
   ]
  },
  {
   "cell_type": "code",
   "execution_count": 13,
   "metadata": {},
   "outputs": [],
   "source": [
    "# A plot, which can drive the story.\n",
    "class Plotline(NarrativeElement):\n",
    "    def __init__(self, attr, trigger_words):\n",
    "        super().__init__(attr, trigger_words)\n",
    "\n",
    "# Refers to historical events.\n",
    "class Event(NarrativeElement):\n",
    "    def __init__(self, attr, trigger_words):\n",
    "        super().__init__(attr, trigger_words)\n",
    "\n",
    "# A bite-sized encounter within the grand plot\n",
    "class SetPiece(NarrativeElement):\n",
    "    def __init__(self, attr, trigger_words, actors):\n",
    "        super().__init__(attr, trigger_words)\n",
    "        self.keywords += [\"actors\"]\n",
    "        self.update_keywords()\n",
    "        self.attr.update({actors : actors})\n",
    "\n",
    "class Quest(NarrativeElement):\n",
    "    def __init__(self, attr, trigger_words):\n",
    "        super().__init__(attr, trigger_words)\n",
    "        self.attr.update({\"questline\": None})\n",
    "        self.update_keywords()\n",
    "\n",
    "class Trope(NarrativeElement):\n",
    "    def __init__(self, attr, trigger_words):\n",
    "        super().__init__(attr, trigger_words)"
   ]
  },
  {
   "cell_type": "code",
   "execution_count": 14,
   "metadata": {},
   "outputs": [],
   "source": [
    "class Item(NarrativeElement):\n",
    "    def __init__(self, attr, trigger_words):\n",
    "        super().__init__(attr, trigger_words)\n",
    "\n",
    "class Spell(NarrativeElement):\n",
    "    def __init__(self, attr, trigger_words):\n",
    "        super().__init__(attr, trigger_words)\n"
   ]
  },
  {
   "cell_type": "code",
   "execution_count": 8,
   "metadata": {},
   "outputs": [],
   "source": [
    "# A Story is a collection of Narrative Elements."
   ]
  },
  {
   "cell_type": "code",
   "execution_count": 9,
   "metadata": {},
   "outputs": [
    {
     "data": {
      "text/plain": [
       "90.7"
      ]
     },
     "execution_count": 9,
     "metadata": {},
     "output_type": "execute_result"
    }
   ],
   "source": [
    "class StealthEncounter(SetPiece):\n",
    "    def __init__(self, attr, trigger_words):\n",
    "        super().__init__(attr, trigger_words)\n",
    "\n",
    "class Conversation(SetPiece):\n",
    "    def __init__(self, attr, trigger_words):\n",
    "        super().__init__(attr, trigger_words) "
   ]
  },
  {
   "cell_type": "code",
   "execution_count": null,
   "metadata": {},
   "outputs": [],
   "source": [
    "   "
   ]
  },
  {
   "cell_type": "code",
   "execution_count": null,
   "metadata": {},
   "outputs": [],
   "source": [
    "# Zephyr AI is excellent at creating dialogue, but it requires context to perform well.\n",
    "# The purpose of this program is to assemble information to supply information to Zephyr,\n",
    "# so it can create a more relevant, consistent response.\n",
    "# It will also prompt Zephyr with more specific instructions, so that the generated text is better.\n",
    "# Each class is some kind of plot device, whether a character or questline or romance,\n",
    "# and contains both attributes and trigger words.\n",
    "# The attributes are a dictionary, and map a the attribute name to either text or another\n",
    "# NarrativeElement, or list of NarrativeElements, in which case they may be replaced by their\n",
    "# names.\n",
    "\n",
    "# Finally, we use trigger words to determine what pieces of information are relevant.\n",
    "# Program flow occurs as follows:\n",
    "# First, zephyr is instructed to narrate a story.\n",
    "# Then, the player inputs text describing what they do.\n",
    "# Then Zephyr is run with the player's text and the statement: what happens next?\n",
    "# The output is shown on screen and appended to the history, and is included in future queries.\n",
    "# Repeat.\n",
    "\n",
    "# Our goal will be to refine the code.\n",
    "# DungeonAI adds model cards:\n",
    "# Given certain words that appear in the text, the information will be appended to the query.\n",
    "# The prompt will have adequate background.\n",
    "\n",
    "# But I want to do better.\n",
    "# I want to improve the prompt, \"What happens next?\"\n",
    "\n",
    "# To do this, for each \n",
    "\n",
    "\n",
    "\n",
    "\n",
    "\n"
   ]
  },
  {
   "cell_type": "code",
   "execution_count": null,
   "metadata": {},
   "outputs": [],
   "source": [
    "class ModelCard:\n",
    "    def __init__(self, name, brief, description, trigger_words):\n",
    "        self.name = name \n",
    "        self.brief = brief\n",
    "        self.description = description\n",
    "        self.trigger_words = trigger_words"
   ]
  },
  {
   "cell_type": "code",
   "execution_count": null,
   "metadata": {},
   "outputs": [],
   "source": []
  }
 ],
 "metadata": {
  "kernelspec": {
   "display_name": "base",
   "language": "python",
   "name": "python3"
  },
  "language_info": {
   "codemirror_mode": {
    "name": "ipython",
    "version": 3
   },
   "file_extension": ".py",
   "mimetype": "text/x-python",
   "name": "python",
   "nbconvert_exporter": "python",
   "pygments_lexer": "ipython3",
   "version": "3.11.5"
  }
 },
 "nbformat": 4,
 "nbformat_minor": 2
}
